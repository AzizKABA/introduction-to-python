{
 "cells": [
  {
   "cell_type": "code",
   "execution_count": 1,
   "metadata": {},
   "outputs": [],
   "source": [
    "# Aziz KABA\n",
    "# Introduction to Phyton\n",
    "# Final Project\n",
    "# 14/03/2021\n",
    "# 00:07"
   ]
  },
  {
   "cell_type": "code",
   "execution_count": 13,
   "metadata": {},
   "outputs": [
    {
     "name": "stdout",
     "output_type": "stream",
     "text": [
      "*****************************************************************\n",
      "Yarışmaya hoşgeldin!\n",
      "Cevapları Türkçe ve küçük karakterler ile yazmalısın!\n",
      "H2O elementinin adı nedir? su\n",
      "Türkiye'nin başkenti neresidir? ankara\n",
      "1 ile 2 arasında kaç reel sayı vardır? sonsuz\n",
      "Saksının İngilizcesi nedir? pot\n",
      "34 nerenin plakasıdır? istanbul\n",
      "METU hangi ildedir? ankara\n",
      "F16 nedir? uçak\n",
      "Türkiye'nin kuzeyinde hangi deniz vardır? karadeniz\n",
      "Sahlep neyden yapılır? orkide\n",
      "Phyton da sıralama hangi metodla yapılır? sort\n",
      "Kazandın! Cevap sayın:  10\n",
      "Cevapların: ['SU', 'ANKARA', 'SONSUZ', 'POT', 'ISTANBUL', 'ANKARA', 'UÇAK', 'KARADENIZ', 'ORKIDE', 'SORT']\n",
      "Doğru Cevaplar:  ['SU', 'ANKARA', 'SONSUZ', 'POT', 'ISTANBUL', 'ANKARA', 'UÇAK', 'KARADENIZ', 'ORKIDE', 'SORT']\n",
      "*****************************************************************\n"
     ]
    }
   ],
   "source": [
    "# veritabanını oluştur\n",
    "\n",
    "s0 = \"H2O elementinin adı nedir? \"\n",
    "c0 = \"SU\"\n",
    "s1 = \"Türkiye'nin başkenti neresidir? \"\n",
    "c1 = \"ANKARA\"\n",
    "s2 = \"1 ile 2 arasında kaç reel sayı vardır? \"\n",
    "c2 = \"SONSUZ\"\n",
    "s3 = \"Saksının İngilizcesi nedir? \"\n",
    "c3 = \"POT\"\n",
    "s4 = \"34 nerenin plakasıdır? \"\n",
    "c4 = \"ISTANBUL\"\n",
    "s5 = \"METU hangi ildedir? \"\n",
    "c5 = \"ANKARA\"\n",
    "s6 = \"F16 nedir? \"\n",
    "c6 = \"UÇAK\"\n",
    "s7 = \"Türkiye'nin kuzeyinde hangi deniz vardır? \"\n",
    "c7 = \"KARADENIZ\"\n",
    "s8 = \"Sahlep neyden yapılır? \"\n",
    "c8 = \"ORKIDE\"\n",
    "s9 = \"Phyton da sıralama hangi metodla yapılır? \"\n",
    "c9 = \"SORT\"\n",
    "\n",
    "sorular  = [s0,s1,s2,s3,s4,s5,s6,s7,s8,s9]\n",
    "cevaplar = [c0,c1,c2,c3,c4,c5,c6,c7,c8,c9]\n",
    "\n",
    "# cevap listesini tanımla\n",
    "yarCevap = list(range(10));\n",
    "\n",
    "# doğru cevap sayacı\n",
    "\n",
    "dogCevSyc = 0\n",
    "\n",
    "# yarışmacıya soruları sor; cevapları al.\n",
    "\n",
    "print(\"*****************************************************************\")\n",
    "\n",
    "print(\"Yarışmaya hoşgeldin!\")\n",
    "\n",
    "print(\"Cevapları Türkçe ve küçük karakterler ile yazmalısın!\")\n",
    "\n",
    "for i in range(10):\n",
    "    yarCevap[i] = input(sorular[i]).upper()\n",
    "    \n",
    "    if yarCevap[i] == cevaplar[i]:\n",
    "        dogCevSyc +=1\n",
    "        \n",
    "if dogCevSyc<= 5:\n",
    "    print(\"Başarısız oldun!\",\"Cevap sayın: \",dogCevSyc)\n",
    "else: \n",
    "    print(\"Kazandın!\",\"Cevap sayın: \",dogCevSyc)\n",
    "    \n",
    "print(\"Cevapların:\", yarCevap)\n",
    "\n",
    "print(\"Doğru Cevaplar: \", cevaplar)\n",
    "\n",
    "print(\"*****************************************************************\")"
   ]
  }
 ],
 "metadata": {
  "kernelspec": {
   "display_name": "Python 3",
   "language": "python",
   "name": "python3"
  },
  "language_info": {
   "codemirror_mode": {
    "name": "ipython",
    "version": 3
   },
   "file_extension": ".py",
   "mimetype": "text/x-python",
   "name": "python",
   "nbconvert_exporter": "python",
   "pygments_lexer": "ipython3",
   "version": "3.8.5"
  }
 },
 "nbformat": 4,
 "nbformat_minor": 4
}
