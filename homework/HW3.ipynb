{
 "cells": [
  {
   "cell_type": "code",
   "execution_count": 13,
   "metadata": {
    "scrolled": true
   },
   "outputs": [
    {
     "name": "stdout",
     "output_type": "stream",
     "text": [
      "Name of the student: A\n",
      "Midterm of the student (0:100): 10\n",
      "Project of the student (0:100): 20\n",
      "Final of the student (0:100): 30\n",
      "Pass Grade:  21.0\n",
      "Name of the student: B\n",
      "Midterm of the student (0:100): 11\n",
      "Project of the student (0:100): 22\n",
      "Final of the student (0:100): 33\n",
      "Pass Grade:  23.1\n",
      "Name of the student: C\n",
      "Midterm of the student (0:100): 90\n",
      "Project of the student (0:100): 80\n",
      "Final of the student (0:100): 70\n",
      "Pass Grade:  79.0\n",
      "Name of the student: D\n",
      "Midterm of the student (0:100): 30\n",
      "Project of the student (0:100): 10\n",
      "Final of the student (0:100): 100\n",
      "Pass Grade:  52.0\n",
      "Name of the student: E\n",
      "Midterm of the student (0:100): 100\n",
      "Project of the student (0:100): 100\n",
      "Final of the student (0:100): 100\n",
      "Pass Grade:  100.0\n",
      "[100.0, 79.0, 52.0, 23.1, 21.0]\n"
     ]
    }
   ],
   "source": [
    "# Aziz KABA\n",
    "# Introduction to Phyton\n",
    "# HW3 - GPA App\n",
    "# 13/03/2021\n",
    "# 23:04\n",
    "\n",
    "# create 5 list to ask students' info\n",
    "\n",
    "passGrade = list(range(5))\n",
    "\n",
    "# create dictionary to keep students' info\n",
    "\n",
    "s1 = {\"Name\":[\"n0\",\"n1\",\"n2\",\"n3\",\"n4\"],\n",
    "      \"mid\":   [0,0,0,0,0],\n",
    "      \"proj\":  [0,0,0,0,0],\n",
    "      \"fin\":   [0,0,0,0,0],\n",
    "      \"pasGr\": [0,0,0,0,0],}\n",
    "\n",
    "# request user input\n",
    "\n",
    "for i in range(5):\n",
    "    \n",
    "    s1[\"Name\"][i]  = input(\"Name of the student: \")\n",
    "    s1[\"mid\"][i]   = input(\"Midterm of the student (0:100): \")\n",
    "    s1[\"proj\"][i]  = input(\"Project of the student (0:100): \")\n",
    "    s1[\"fin\"][i]   = input(\"Final of the student (0:100): \")\n",
    "    \n",
    "    # calculate passing Grade into a list\n",
    "    passGrade[i] = float(s1[\"mid\"][i])*(0.3)  + float(s1[\"proj\"][i])*(0.3) + float(s1[\"fin\"][i])*(0.4)\n",
    "    \n",
    "    # print student's passing grade\n",
    "    print(\"Pass Grade: \",passGrade[i])\n",
    "\n",
    "# sort grades from max to min\n",
    "passGrade.sort(reverse=True)\n",
    "\n",
    "print(passGrade)\n",
    "\n",
    "\n",
    "\n",
    "\n",
    "    \n",
    "\n",
    "\n"
   ]
  },
  {
   "cell_type": "code",
   "execution_count": null,
   "metadata": {},
   "outputs": [],
   "source": []
  },
  {
   "cell_type": "code",
   "execution_count": null,
   "metadata": {},
   "outputs": [],
   "source": []
  }
 ],
 "metadata": {
  "kernelspec": {
   "display_name": "Python 3",
   "language": "python",
   "name": "python3"
  },
  "language_info": {
   "codemirror_mode": {
    "name": "ipython",
    "version": 3
   },
   "file_extension": ".py",
   "mimetype": "text/x-python",
   "name": "python",
   "nbconvert_exporter": "python",
   "pygments_lexer": "ipython3",
   "version": "3.8.5"
  }
 },
 "nbformat": 4,
 "nbformat_minor": 4
}
