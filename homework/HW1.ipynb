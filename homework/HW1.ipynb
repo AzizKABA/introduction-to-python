{
 "cells": [
  {
   "cell_type": "code",
   "execution_count": 18,
   "metadata": {},
   "outputs": [],
   "source": [
    "# Aziz KABA\n",
    "# Introduction to Phyton\n",
    "# HW1 - Lists\n",
    "# 13/03/2021\n",
    "# 22:22"
   ]
  },
  {
   "cell_type": "code",
   "execution_count": 27,
   "metadata": {},
   "outputs": [
    {
     "name": "stdout",
     "output_type": "stream",
     "text": [
      "[1, 3, 5, 7, 9]\n",
      "[0, 2, 4, 6, 8]\n",
      "[1, 3, 5, 7, 9, 0, 2, 4, 6, 8]\n",
      "[2, 6, 10, 14, 18, 0, 4, 8, 12, 16]\n",
      "<class 'int'>\n",
      "<class 'int'>\n",
      "<class 'int'>\n",
      "<class 'int'>\n",
      "<class 'int'>\n",
      "<class 'int'>\n",
      "<class 'int'>\n",
      "<class 'int'>\n",
      "<class 'int'>\n",
      "<class 'int'>\n"
     ]
    }
   ],
   "source": [
    "# create odd list\n",
    "\n",
    "oddList = list(range(1,10,2))\n",
    "\n",
    "print(oddList)\n",
    "\n",
    "# create even list\n",
    "\n",
    "evenList = list(range(0,9,2))\n",
    "\n",
    "print(evenList)\n",
    "\n",
    "# merge lists into one\n",
    "\n",
    "oeList = oddList + evenList\n",
    "\n",
    "print(oeList)\n",
    "\n",
    "# multiply by 2\n",
    "\n",
    "oeList = [i*2 for i in oeList]\n",
    "\n",
    "print(oeList)\n",
    "\n",
    "for i in range(len(oeList)):\n",
    "    \n",
    "    print(type(oeList[i]))"
   ]
  },
  {
   "cell_type": "code",
   "execution_count": null,
   "metadata": {},
   "outputs": [],
   "source": []
  }
 ],
 "metadata": {
  "kernelspec": {
   "display_name": "Python 3",
   "language": "python",
   "name": "python3"
  },
  "language_info": {
   "codemirror_mode": {
    "name": "ipython",
    "version": 3
   },
   "file_extension": ".py",
   "mimetype": "text/x-python",
   "name": "python",
   "nbconvert_exporter": "python",
   "pygments_lexer": "ipython3",
   "version": "3.8.5"
  }
 },
 "nbformat": 4,
 "nbformat_minor": 4
}
