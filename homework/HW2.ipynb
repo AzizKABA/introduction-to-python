{
 "cells": [
  {
   "cell_type": "code",
   "execution_count": null,
   "metadata": {},
   "outputs": [],
   "source": [
    "# Aziz KABA\n",
    "# Introduction to Phyton\n",
    "# HW2 - CV App\n",
    "# 13/03/2021\n",
    "# 22:39"
   ]
  },
  {
   "cell_type": "code",
   "execution_count": 2,
   "metadata": {},
   "outputs": [
    {
     "name": "stdout",
     "output_type": "stream",
     "text": [
      "{'Ad': 'Alfa', 'Soyad': 'Beta', 'Lisans': 'ODTÜ', 'Yaş': 27, 'Tecrübe': 4}\n",
      "{'Ad': 'Gama', 'Soyad': 'Theta', 'Lisans': 'İTÜ', 'Yaş': 24, 'Tecrübe': 2}\n",
      "{'Ad': 'Ksi', 'Soyad': 'Lambda', 'Lisans': 'UÜ', 'Yaş': 32, 'Tecrübe': 9}\n",
      "{'Ad': 'Delta', 'Soyad': 'Psi', 'Lisans': 'KTÜ', 'Yaş': 22, 'Tecrübe': 2}\n",
      "{'Ad': 'Omega', 'Soyad': 'Phi', 'Lisans': 'AÜ', 'Yaş': 35, 'Tecrübe': 12}\n"
     ]
    }
   ],
   "source": [
    "# create 5 dictionaries => CV \n",
    "\n",
    "cv0 = {'Ad': 'Alfa', 'Soyad':'Beta',  'Lisans': 'ODTÜ', 'Yaş': 27, 'Tecrübe':4}\n",
    "cv1 = {'Ad': 'Gama', 'Soyad':'Theta', 'Lisans': 'İTÜ',  'Yaş': 24, 'Tecrübe':2}\n",
    "cv2 = {'Ad': 'Ksi',  'Soyad':'Lambda','Lisans': 'UÜ',   'Yaş': 32, 'Tecrübe':9}\n",
    "cv3 = {'Ad': 'Delta','Soyad':'Psi',   'Lisans': 'KTÜ',  'Yaş': 22, 'Tecrübe':2}\n",
    "cv4 = {'Ad': 'Omega','Soyad':'Phi',   'Lisans': 'AÜ',   'Yaş': 35, 'Tecrübe':12}\n",
    "\n",
    "# create a CV containing 5 people's info\n",
    "\n",
    "cvAll = [cv0, cv1,cv2,cv3,cv4]\n",
    "\n",
    "# print all the cv values by newline\n",
    "\n",
    "for i in range(len(cvAll)):\n",
    "        print(cvAll[i], end=\"\\n\")\n",
    "\n"
   ]
  }
 ],
 "metadata": {
  "kernelspec": {
   "display_name": "Python 3",
   "language": "python",
   "name": "python3"
  },
  "language_info": {
   "codemirror_mode": {
    "name": "ipython",
    "version": 3
   },
   "file_extension": ".py",
   "mimetype": "text/x-python",
   "name": "python",
   "nbconvert_exporter": "python",
   "pygments_lexer": "ipython3",
   "version": "3.8.5"
  }
 },
 "nbformat": 4,
 "nbformat_minor": 4
}
